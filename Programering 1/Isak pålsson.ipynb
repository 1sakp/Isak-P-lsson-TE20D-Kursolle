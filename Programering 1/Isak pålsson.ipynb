{
 "cells": [
  {
   "cell_type": "markdown",
   "id": "b4aca0db",
   "metadata": {},
   "source": [
    "# Hemtentamen TE20D 10 mars\n",
    "\n",
    "Detta är en individuell uppgift. Exakta svar kommer bedömas som ett grupparbete och ge max. E på tentamen. Ni ska inte samarbeta.\n",
    "\n",
    "Ni får en lektion för att arbeta på uppgiften. Senast inlämning är **torsdag 10 mars kl 23.59**. Inga sena inlämningar accepteras. Det blir ett skriftligt omprovs tillfälle på resurstid tillsammans med övriga Prog 1 kurser.\n",
    "\n",
    "Lycka till!! \n",
    "\n",
    "Starta med att köra cellen nedan sedan är det bara att gå igenom frågorna!"
   ]
  },
  {
   "cell_type": "code",
   "execution_count": 2,
   "id": "9c0c6d3d",
   "metadata": {},
   "outputs": [
    {
     "name": "stdout",
     "output_type": "stream",
     "text": [
      "LYCKA TILL!\n",
      "\n",
      " ✌(ಠ‿ಠ)✌\n"
     ]
    }
   ],
   "source": [
    "for i in \"LYCKA TILL!\":\n",
    "    print (i, end= \"\")\n",
    "    \n",
    "print (\"\\n\\n ✌(ಠ‿ಠ)✌\")"
   ]
  },
  {
   "cell_type": "markdown",
   "id": "16625ed0",
   "metadata": {},
   "source": [
    "## Del 1: Scope"
   ]
  },
  {
   "cell_type": "markdown",
   "id": "9bdceee9",
   "metadata": {},
   "source": [
    "### (E) Fråga 1\n",
    "\n",
    "Vad innebär \"Scope\", använd LEGB regeln för att förklara. Har du använt dig av det i din utvärdering använd gärna det som exempel."
   ]
  },
  {
   "cell_type": "markdown",
   "id": "a347c761",
   "metadata": {},
   "source": [
    "[Skriv ditt svar här]"
   ]
  },
  {
   "cell_type": "markdown",
   "id": "3196a71b",
   "metadata": {},
   "source": [
    "LEGB(local, enclosing, global, built-in) är dem olika typerna av scope, dem diktirar i vilken årdning kåden körs. Man kan ha olika nivåer, man kan t.ex ha en global variabel som kan användas var som hälst, men en lokal variabel kan bara användas lokalt... altså där den defineras, t.ex i en funktion. Som sagt så kan man säga att dem olika lagrena har olika behörigheter som variabler kan existera i. Man kan tänka på det som lager eller xoner där dem olika sakerna som existerar i ett visst lager inte kan finnas i andra men finnas i vissa."
   ]
  },
  {
   "cell_type": "markdown",
   "id": "98d624d2",
   "metadata": {},
   "source": [
    "## Del 2: Felhantering\n",
    "\n"
   ]
  },
  {
   "cell_type": "markdown",
   "id": "a09e1753",
   "metadata": {},
   "source": [
    "### (E) Fråga 2\n",
    "\n",
    "Det finns tre typer av fel: Syntaxfel, exekveringsfel och logiska fel. Beskriv skillnaden mellan dessa typer av fel. Ge exempel på **syntaxfel** och **logiska** fel gärna utifrån spelet du gjort.\n"
   ]
  },
  {
   "cell_type": "markdown",
   "id": "ff1a6d92",
   "metadata": {},
   "source": [
    "[Skriv svar här]"
   ]
  },
  {
   "cell_type": "markdown",
   "id": "41c1f1aa",
   "metadata": {},
   "source": [
    "Syntaxfel är oftast gramatiska fel, altså man har skriv fel i koden. Man kan t.ex ha skrivit print(\"Hej) då får man ett syntaxfel, det betyder altså att datorn inte kan läsa koden rätt. Exekveringsfel är när datorn läst koden men bara inte kan göra det. Som ifall man försöker dela med 0 såkommer det bli ett eksekveringsfel då datorn inte vet vad den ska göra. Logiska fel är fel som när man har två variabler med samma namn typ om man har en global variabel som heter X och en lokal varaibel med samma namn. Då blir det ett logiskt fel, man får bara inte det man ville ha. Datorn tolkar det på ett annat sätt än vad du ville när du kodade."
   ]
  },
  {
   "cell_type": "markdown",
   "id": "1abd5560",
   "metadata": {},
   "source": [
    "### (C-A) Fråga 3\n",
    "\n",
    "Ge ett exempel på hur du kan använda try/except vid felhantering. Använd gärna din kod från spelet som exempel."
   ]
  },
  {
   "cell_type": "code",
   "execution_count": 4,
   "id": "f2c97801",
   "metadata": {},
   "outputs": [
    {
     "name": "stdout",
     "output_type": "stream",
     "text": [
      "dict_keys(['ATA', 'ATC', 'ATT', 'ATG', 'ACA', 'ACC', 'ACG', 'ACT', 'AAC', 'AAT', 'AAA', 'AAG', 'AGC', 'AGT', 'AGA', 'AGG', 'CTA', 'CTC', 'CTG', 'CTT', 'CCA', 'CCC', 'CCG', 'CCT', 'CAC', 'CAT', 'CAA', 'CAG', 'CGA', 'CGC', 'CGG', 'CGT', 'GTA', 'GTC', 'GTG', 'GTT', 'GCA', 'GCC', 'GCG', 'GCT', 'GAC', 'GAT', 'GAA', 'GAG', 'GGA', 'GGC', 'GGG', 'GGT', 'TCA', 'TCC', 'TCG', 'TCT', 'TTC', 'TTT', 'TTA', 'TTG', 'TAC', 'TAT', 'TAA', 'TAG', 'TGC', 'TGT', 'TGA', 'TGG'])\n"
     ]
    }
   ],
   "source": [
    "#Man använder \"try\" när man vet att det lätt kan tillkomma ett fel och man vet vad felet kommer att vara.\n",
    "#Man använder då \"except\" för att säga vad den ska göra när det blir fel. Man definerar också vad error medelanet ska vara.\n",
    "\n",
    "#EXEMPEL:\n",
    "#Man kan som i exemplet du ser nedan göra en try except om den kan hitta filen... filen är just nu hårdkodad men det är \n",
    "#samma try except om man skulle sätta in filens namn själv.\n",
    "\n",
    "\n",
    "import ast\n",
    "\n",
    "def file_read():\n",
    "    try:\n",
    "        with open (\"C:\\\\Users\\\\isak.palsson1\\\\Documents\\\\code workshop\\\\Programering 1\\\\genetic_code.txt\", \"r\") as file:\n",
    "            content = file.read()\n",
    "        \n",
    "    except FileNotFoundError:    \n",
    "        print(\"Filen fanns inte!\")\n",
    "        file_read()\n",
    "        \n",
    "    dictionary = ast.literal_eval(content)\n",
    "    ask = input(\"kodon eller aminosyror eller protein:    \")\n",
    "    if \"kodon\" in ask.lower():\n",
    "        print(dictionary.keys())\n",
    "    elif \"aminosyror\" in ask.lower():\n",
    "        print(dictionary.values())\n",
    "    elif \"protein\" in ask.lower():\n",
    "        listan = dictionary.values()\n",
    "        print(\"\".join(listan))\n",
    "    \n",
    "    file.close()\n",
    "        \n",
    "file_read()"
   ]
  },
  {
   "cell_type": "markdown",
   "id": "6aea3bcd",
   "metadata": {},
   "source": [
    "### (C-A) Fråga 4\n",
    "\n",
    "Ge minst ett exempel på hur du kan använda assert vid felhantering. Använd gärna din kod från spelet som exempel."
   ]
  },
  {
   "cell_type": "code",
   "execution_count": 36,
   "id": "448c476f",
   "metadata": {},
   "outputs": [
    {
     "name": "stdout",
     "output_type": "stream",
     "text": [
      "Du skrev fel...\n",
      "du skrev rätt...\n",
      "du skrev rätt...\n"
     ]
    }
   ],
   "source": [
    "#assert fungerar som en if true gate genom att den kollar om det är sant annars så ger den ett assertion error. \n",
    "#Så man kan använda assert istället för en if sats.\n",
    "\n",
    "def Ex():\n",
    "    va = input(\"Skriv: hej\")\n",
    "    try:\n",
    "        assert va.lower() == \"hej\"\n",
    "    except AssertionError:\n",
    "        print(\"Du skrev fel...\")\n",
    "        Ex()\n",
    "    print(\"du skrev rätt...\")\n",
    "    \n",
    "Ex()\n"
   ]
  },
  {
   "cell_type": "markdown",
   "id": "d1c07bd8",
   "metadata": {},
   "source": [
    "## Del 3: Filhantering"
   ]
  },
  {
   "cell_type": "markdown",
   "id": "9ef74e37",
   "metadata": {},
   "source": [
    "### (E) Fråga 5\n",
    "\n",
    "- a) Beskriv vad filhantering innebär, när kan man använda det?\n",
    "- b) Vad innebär r, w, a, w+, r+ och a+?\n",
    "- c) Ge ett exempel på hur du kan skriva in \"hej\" till en textfil som heter hej.txt med \"with open\" satsen."
   ]
  },
  {
   "cell_type": "markdown",
   "id": "c2c8524b",
   "metadata": {},
   "source": [
    "[Svar deluppgift **a** och **b**]"
   ]
  },
  {
   "cell_type": "code",
   "execution_count": 11,
   "id": "c181c836",
   "metadata": {},
   "outputs": [],
   "source": [
    "# svar deluppgift c. Fullständig kod med kommentarer\n",
    "\n",
    "#a) Filhantering innebär att man hanterar filer, d.v.s att man läser, flyttar eller skriver till filer.\n",
    "\n",
    "#b) r, w, a, w+, och a+ är alla olika behörigheter man kan ge kod. r är read, r+ är att den kan skriva och läsa och den skriver i börgan av filen, w är write, w+ är wright + read, a fungerar som append när den skriver till en fil\n",
    "# a+ fungerar som a men kan också läsa och skriva.\n",
    "\n",
    "#c)\n",
    "\n",
    "with open(\"hej.txt\", \"w+\") as file:\n",
    "    file.write(\"hej \")\n",
    "    "
   ]
  },
  {
   "cell_type": "markdown",
   "id": "c29bd3f3",
   "metadata": {},
   "source": [
    "### (A) Fråga 6: \"Ge koden din egen prägel\"\n",
    "\n",
    "Utgå från koden nedan som är en typ av alarmklocka. Gör om koden så att det skapas någon form av logg över alla som använder klockan (ska sparas till en fil). Istället för texten \"Tiden är ute\" så ska du läsa in en textrad från en fil eller kanske spela ett ljudklipp som finns i en fil. Bonus om du har flera olika textrader eller ljudfiler där det slumpas vilken som visas/spelas.\n",
    "\n",
    "Detta är ett förslag till förändring, självklart får du komma på en egen ide till hur du vill ändra koden! Men se till att de finns att du skriver in till en fil samt läser från en fil.\n",
    "\n"
   ]
  },
  {
   "cell_type": "code",
   "execution_count": 38,
   "id": "7ea28ef3",
   "metadata": {},
   "outputs": [
    {
     "name": "stdout",
     "output_type": "stream",
     "text": [
      "History: \n",
      "Isak 1 sekunder\n",
      "\n",
      "\n",
      "50/50\n"
     ]
    }
   ],
   "source": [
    "# importerar time modulen\n",
    "import time\n",
    "import random\n",
    "# definerar funktion alarmklocka\n",
    "def alarmklocka ():\n",
    "    t = int(input(\"Enter the time in seconds: \"))\n",
    "    t_temp = t\n",
    "    while t >= 0:\n",
    "        mins, sek = divmod(t, 60)\n",
    "        timer = '{:02d}:{:02d}'.format(mins, sek)\n",
    "        print(timer, end=\"\\r\")\n",
    "        time.sleep(1)\n",
    "        t -= 1\n",
    "    \n",
    "    #loggar namn och tid till filen logg.txt\n",
    "    name = input(\"Please enter your name:    \")\n",
    "    with open(\"logg.txt\", \"a+\") as file: \n",
    "        file.write(f\"{name} {t_temp} sekunder\\n\")\n",
    "    file.close()\n",
    "    \n",
    "    #visar loggen\n",
    "    print(\"History: \")\n",
    "    with open(\"logg.txt\", \"r\") as file_read:\n",
    "        line = file_read.readline()\n",
    "        while line:\n",
    "            line = file_read.readline()\n",
    "            print(line)\n",
    "    file_read.close()\n",
    "\n",
    "    #slumpar vad det står\n",
    "    randomness = random.randint(0, 1)\n",
    "    if randomness == 1:\n",
    "        print(\"50/50\")\n",
    "    else:\n",
    "        print(\"100/100\")\n",
    "        \n",
    "  \n",
    "# kallar på funktion alarmklocka\n",
    "alarmklocka()"
   ]
  },
  {
   "cell_type": "markdown",
   "id": "3627ba22",
   "metadata": {},
   "source": [
    "## Del 4: Lämna in!\n",
    "\n",
    "Lämna in filen i classroom. Spara ned filen enligt mall **dittnamn.ipynb** (ipynb blir automatisk filändelse)."
   ]
  },
  {
   "cell_type": "code",
   "execution_count": null,
   "id": "9f733c41",
   "metadata": {},
   "outputs": [],
   "source": []
  }
 ],
 "metadata": {
  "kernelspec": {
   "display_name": "Python 3",
   "language": "python",
   "name": "python3"
  },
  "language_info": {
   "codemirror_mode": {
    "name": "ipython",
    "version": 3
   },
   "file_extension": ".py",
   "mimetype": "text/x-python",
   "name": "python",
   "nbconvert_exporter": "python",
   "pygments_lexer": "ipython3",
   "version": "3.9.6"
  }
 },
 "nbformat": 4,
 "nbformat_minor": 5
}
